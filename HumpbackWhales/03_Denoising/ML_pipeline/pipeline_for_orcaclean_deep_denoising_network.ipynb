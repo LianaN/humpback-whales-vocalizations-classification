{
 "cells": [
  {
   "cell_type": "markdown",
   "metadata": {},
   "source": [
    "# Pipeline for ORCA-CLEAN Deep Denoizing Network\n",
    "\n",
    "**Requirements** - In order to run this notebook, you will need:\n",
    "- A basic understanding of Machine Learning\n",
    "- An Azure account with an active subscription - [Create an account for free](https://azure.microsoft.com/free/?WT.mc_id=A261C142F)\n",
    "- An Azure ML workspace with computer cluster - [Configure workspace](../../configuration.ipynb)\n",
    "- A python environment\n",
    "- Installed Azure Machine Learning Python SDK v2 - [install instructions](../../../README.md) - check the getting started section"
   ]
  },
  {
   "cell_type": "markdown",
   "metadata": {},
   "source": [
    "# 1. Connect to Azure Machine Learning Workspace\n",
    "\n",
    "The [workspace](https://docs.microsoft.com/en-us/azure/machine-learning/concept-workspace) is the top-level resource for Azure Machine Learning, providing a centralized place to work with all the artifacts you create when you use Azure Machine Learning. In this section we will connect to the workspace in which the job will be run.\n",
    "\n",
    "## 1.1 Import the required libraries and settings"
   ]
  },
  {
   "cell_type": "code",
   "execution_count": 1,
   "metadata": {
    "gather": {
     "logged": 1695994756296
    }
   },
   "outputs": [],
   "source": [
    "import datetime\n",
    "\n",
    "from azure.identity import DefaultAzureCredential, InteractiveBrowserCredential, EnvironmentCredential, AzureCliCredential\n",
    "\n",
    "from azure.ai.ml import MLClient, Input, Output\n",
    "from azure.ai.ml.dsl import pipeline\n",
    "from azure.ai.ml import load_component\n",
    "from azure.ai.ml.entities import AmlCompute, Environment, Model, Data\n",
    "from azure.ai.ml.constants import AssetTypes\n",
    "import os"
   ]
  },
  {
   "cell_type": "code",
   "execution_count": 16,
   "metadata": {},
   "outputs": [],
   "source": [
    "run_training_pipeline = False # set to false you only want to register the existing model and create an endpoint for the inference"
   ]
  },
  {
   "cell_type": "markdown",
   "metadata": {},
   "source": [
    "## 1.2 Configure credential\n",
    "\n",
    "We are using `DefaultAzureCredential` to get access to workspace. \n",
    "`DefaultAzureCredential` should be capable of handling most Azure SDK authentication scenarios. \n",
    "\n",
    "Reference for more available credentials if it does not work for you: [configure credential example](../../configuration.ipynb), [azure-identity reference doc](https://docs.microsoft.com/en-us/python/api/azure-identity/azure.identity?view=azure-python)."
   ]
  },
  {
   "cell_type": "markdown",
   "metadata": {},
   "source": []
  },
  {
   "cell_type": "code",
   "execution_count": 2,
   "metadata": {
    "gather": {
     "logged": 1695994760367
    }
   },
   "outputs": [],
   "source": [
    "try:\n",
    "    credential = DefaultAzureCredential()\n",
    "    # Check if given credential can get token successfully.\n",
    "    credential.get_token(\"https://management.azure.com/.default\")\n",
    "except Exception as ex:\n",
    "    # Fall back to InteractiveBrowserCredential in case DefaultAzureCredential not work\n",
    "    credential = InteractiveBrowserCredential(tenant_id=\"<YOUR TENANT ID>\")"
   ]
  },
  {
   "cell_type": "markdown",
   "metadata": {},
   "source": [
    "## 1.3 Get a handle to the workspace\n",
    "\n",
    "We use config file to connect to a workspace. The Azure ML workspace should be configured with computer cluster. [Check this notebook for configure a workspace](../../configuration.ipynb)"
   ]
  },
  {
   "cell_type": "code",
   "execution_count": 3,
   "metadata": {
    "gather": {
     "logged": 1695994809327
    }
   },
   "outputs": [
    {
     "name": "stderr",
     "output_type": "stream",
     "text": [
      "Found the config file in: /config.json\n"
     ]
    },
    {
     "name": "stdout",
     "output_type": "stream",
     "text": [
      "enable_node_public_ip: true\n",
      "id: /subscriptions/03fd01f6-6051-4545-a78e-ceaace399b96/resourceGroups/lianatests/providers/Microsoft.MachineLearningServices/workspaces/humpbackwhales-aml/computes/whalesdenoisinggpu2\n",
      "idle_time_before_scale_down: 180\n",
      "location: westeurope\n",
      "max_instances: 4\n",
      "min_instances: 0\n",
      "name: whalesdenoisinggpu2\n",
      "network_settings: {}\n",
      "provisioning_state: Succeeded\n",
      "size: STANDARD_NC24ADS_A100_V4\n",
      "ssh_public_access_enabled: true\n",
      "tier: dedicated\n",
      "type: amlcompute\n",
      "\n"
     ]
    }
   ],
   "source": [
    "# Get a handle to workspace\n",
    "ml_client = MLClient.from_config(\n",
    "    credential=credential, \n",
    "    # tenant_id=\"<YOUR TENANT ID>\", # needed to sepcify the tenant to make it work in some cases\n",
    ")\n",
    "\n",
    "compute_instance_name = \"whalesdenoisinggpu2\"\n",
    "try:\n",
    "    print(ml_client.compute.get(compute_instance_name))\n",
    "except Exception as ex:\n",
    "    compute_instance = AmlCompute(\n",
    "        name=compute_instance_name,\n",
    "        type=\"amlcompute\",\n",
    "        size=\"Standard_NC24ads_A100_v4\",\n",
    "        # Minimum running nodes when there is no job running\n",
    "        min_instances=0,\n",
    "        # Nodes in cluster\n",
    "        max_instances=4,\n",
    "        # How many seconds will the node running after the job termination\n",
    "        idle_time_before_scale_down=180,\n",
    "        # Dedicated or LowPriority. The latter is cheaper but there is a chance of job termination\n",
    "        tier=\"Dedicated\",\n",
    "    )\n",
    "    ml_client.begin_create_or_update(compute_instance).result()\n",
    "    print(f\"Created new compute instance: {ml_client.compute.get(compute_instance_name)}\")"
   ]
  },
  {
   "cell_type": "markdown",
   "metadata": {},
   "source": [
    "## 1.4 Create a custom environment"
   ]
  },
  {
   "cell_type": "code",
   "execution_count": 25,
   "metadata": {},
   "outputs": [
    {
     "name": "stdout",
     "output_type": "stream",
     "text": [
      "Environment with name whales-denoising-env is registered to workspace, the environment version is 1.8\n"
     ]
    }
   ],
   "source": [
    "custom_env_name = \"whales-denoising-env\"\n",
    "env_version = \"1.8\"\n",
    "dependencies_dir = \"./dependencies\"\n",
    "\n",
    "try:\n",
    "    pipeline_job_env = ml_client.environments.get(name=custom_env_name, version=env_version)\n",
    "    print(\n",
    "        f\"Environment with name {pipeline_job_env.name} is registered to workspace, the environment version is {pipeline_job_env.version}\"\n",
    "    )\n",
    "except:\n",
    "    pipeline_job_env = Environment(\n",
    "        name=custom_env_name,\n",
    "        description=\"Custom environment for running ORCA-CLEAN pipeline\",\n",
    "        conda_file=os.path.join(dependencies_dir, \"conda.yaml\"),\n",
    "        image=\"mcr.microsoft.com/azureml/curated/acpt-pytorch-2.0-cuda11.7:17\", #\"mcr.microsoft.com/azureml/openmpi3.1.2-cuda10.1-cudnn7-ubuntu18.04\", #\"mcr.microsoft.com/azureml/curated/acpt-pytorch-1.13-cuda11.7:18\",\n",
    "        version=env_version,\n",
    "    )\n",
    "\n",
    "    pipeline_job_env = ml_client.environments.create_or_update(pipeline_job_env)\n",
    "    print(\n",
    "        f\"Environment with name {pipeline_job_env.name} is registered to workspace, the environment version is {pipeline_job_env.version}\"\n",
    "    )"
   ]
  },
  {
   "cell_type": "markdown",
   "metadata": {},
   "source": [
    "## 1.5 Create the Data asset objects"
   ]
  },
  {
   "cell_type": "code",
   "execution_count": 5,
   "metadata": {},
   "outputs": [],
   "source": [
    "whales_data_name = \"whales_data\"\n",
    "noise_train_data_name = \"noise_train_data\"\n",
    "noise_test_data_name = \"noise_test_data\"\n",
    "noise_val_data_name = \"noise_val_data\"\n",
    "dataset_version = \"3\""
   ]
  },
  {
   "cell_type": "code",
   "execution_count": 6,
   "metadata": {},
   "outputs": [],
   "source": [
    "path = \"/mnt/humpbackwhales/data/denoising_data/whales_data_v2\"\n",
    "whales_data_name = \"whales_data\"\n",
    "\n",
    "try:\n",
    "    whales_data = ml_client.data.get(whales_data_name, version=dataset_version)\n",
    "except:\n",
    "    whales_data = Data(\n",
    "        path=path,\n",
    "        type=AssetTypes.URI_FOLDER,\n",
    "        description=\"whales vocalizations of all types: moans, barks, creaks, etc.\",\n",
    "        name=whales_data_name,\n",
    "        version=dataset_version,\n",
    "    )\n",
    "    ml_client.data.create_or_update(whales_data)"
   ]
  },
  {
   "cell_type": "code",
   "execution_count": 7,
   "metadata": {},
   "outputs": [],
   "source": [
    "path = \"/mnt/humpbackwhales/data/denoising_data/noise_train_v2\"\n",
    "noise_train_data_name = \"noise_train_data\"\n",
    "\n",
    "try:\n",
    "    noise_train_data = ml_client.data.get(noise_train_data_name, version=dataset_version)\n",
    "except:\n",
    "    noise_train_data = Data(\n",
    "        path=path,\n",
    "        type=AssetTypes.URI_FOLDER,\n",
    "        description=\"5-sec segments of only-noise retrieved from raw hydrophone recordings\",\n",
    "        name=noise_train_data_name,\n",
    "        version=dataset_version,\n",
    "    )\n",
    "    ml_client.data.create_or_update(noise_train_data)"
   ]
  },
  {
   "cell_type": "code",
   "execution_count": 8,
   "metadata": {},
   "outputs": [],
   "source": [
    "path = \"/mnt/humpbackwhales/data/denoising_data/noise_test_v2\"\n",
    "noise_test_data_name = \"noise_test_data\"\n",
    "\n",
    "try:\n",
    "    noise_test_data = ml_client.data.get(noise_test_data_name, version=dataset_version)\n",
    "except:\n",
    "    noise_test_data = Data(\n",
    "        path=path,\n",
    "        type=AssetTypes.URI_FOLDER,\n",
    "        description=\"5-sec segments of only-noise retrieved from raw hydrophone recordings\",\n",
    "        name=noise_test_data_name,\n",
    "        version=dataset_version,\n",
    "    )\n",
    "    ml_client.data.create_or_update(noise_test_data)"
   ]
  },
  {
   "cell_type": "code",
   "execution_count": 9,
   "metadata": {},
   "outputs": [],
   "source": [
    "path = \"/mnt/humpbackwhales/data/denoising_data/noise_val_v2\"\n",
    "noise_val_data_name = \"noise_val_data\"\n",
    "\n",
    "try:\n",
    "    noise_val_data = ml_client.data.get(noise_val_data_name, version=dataset_version)\n",
    "except:\n",
    "    noise_val_data = Data(\n",
    "        path=path,\n",
    "        type=AssetTypes.URI_FOLDER,\n",
    "        description=\"5-sec segments of only-noise retrieved from raw hydrophone recordings\",\n",
    "        name=noise_val_data_name,\n",
    "        version=dataset_version,\n",
    "    )\n",
    "    ml_client.data.create_or_update(noise_val_data)"
   ]
  },
  {
   "cell_type": "code",
   "execution_count": 10,
   "metadata": {},
   "outputs": [],
   "source": [
    "path = \"/mnt/humpbackwhales/denoising/outputs\"\n",
    "denoising_training_outputs_name = \"denoising_training_outputs\"\n",
    "\n",
    "try:\n",
    "    denoising_training_outputs = ml_client.data.get(denoising_training_outputs_name, version=dataset_version)\n",
    "except:\n",
    "    denoising_training_outputs = Data(\n",
    "        path=path,\n",
    "        type=AssetTypes.URI_FOLDER,\n",
    "        description=\"results of deep denoising network's training\",\n",
    "        name=denoising_training_outputs_name,\n",
    "        version=dataset_version,\n",
    "    )\n",
    "    ml_client.data.create_or_update(denoising_training_outputs)"
   ]
  },
  {
   "cell_type": "code",
   "execution_count": 11,
   "metadata": {},
   "outputs": [],
   "source": [
    "default_datastore_name = \"workspaceblobstore\"  # workspaceblobstore, workspacefilestore"
   ]
  },
  {
   "cell_type": "markdown",
   "metadata": {},
   "source": [
    "# 2. Define and create components into workspace\n",
    "## 2.1 Load components from YAML"
   ]
  },
  {
   "cell_type": "code",
   "execution_count": 12,
   "metadata": {},
   "outputs": [],
   "source": [
    "parent_dir = \".\"\n",
    "train_model = load_component(source=parent_dir + \"/train_model.yml\")\n",
    "#score_data = load_component(source=parent_dir + \"/score_data.yml\")\n",
    "#eval_model = load_component(source=parent_dir + \"/eval_model.yml\")"
   ]
  },
  {
   "cell_type": "markdown",
   "metadata": {},
   "source": [
    "## 2.2 Inspect loaded component"
   ]
  },
  {
   "cell_type": "code",
   "execution_count": 13,
   "metadata": {},
   "outputs": [
    {
     "name": "stdout",
     "output_type": "stream",
     "text": [
      "$schema: https://azuremlschemas.azureedge.net/latest/commandComponent.schema.json\n",
      "name: train_model\n",
      "version: 0.0.1\n",
      "display_name: Train Deep Denoising Model\n",
      "description: The training component\n",
      "type: command\n",
      "inputs:\n",
      "  whales_data:\n",
      "    type: uri_folder\n",
      "  noise_train_data:\n",
      "    type: uri_folder\n",
      "  noise_val_data:\n",
      "    type: uri_folder\n",
      "  noise_test_data:\n",
      "    type: uri_folder\n",
      "  max_train_epochs:\n",
      "    type: integer\n",
      "    default: '100'\n",
      "  learning_rate:\n",
      "    type: number\n",
      "    default: '0.001'\n",
      "  batch_size:\n",
      "    type: integer\n",
      "    default: '16'\n",
      "  num_workers:\n",
      "    type: integer\n",
      "    default: '1'\n",
      "  augmentation:\n",
      "    type: integer\n",
      "    default: '1'\n",
      "  n_fft:\n",
      "    type: integer\n",
      "    default: '4096'\n",
      "  hop_length:\n",
      "    type: integer\n",
      "    default: '441'\n",
      "  sequence_len:\n",
      "    type: integer\n",
      "    default: '1280'\n",
      "  freq_compression:\n",
      "    type: string\n",
      "    default: linear\n",
      "  model_dir:\n",
      "    type: string\n",
      "  log_dir:\n",
      "    type: string\n",
      "  checkpoint_dir:\n",
      "    type: string\n",
      "  cache_dir:\n",
      "    type: string\n",
      "  summary_dir:\n",
      "    type: string\n",
      "outputs:\n",
      "  training_output:\n",
      "    type: uri_folder\n",
      "    description: Training output\n",
      "command: python main.py  --debug  --random_val --max_train_epochs ${{inputs.max_train_epochs}}  --lr\n",
      "  ${{inputs.learning_rate}}  --batch_size ${{inputs.batch_size}}  --num_workers ${{inputs.num_workers}}  --data_dir\n",
      "  ${{inputs.whales_data}}  --noise_dir_train ${{inputs.noise_train_data}}  --noise_dir_val\n",
      "  ${{inputs.noise_val_data}}  --noise_dir_test ${{inputs.noise_test_data}}  --model_dir\n",
      "  ${{inputs.model_dir}}  --log_dir ${{inputs.log_dir}}  --checkpoint_dir ${{inputs.checkpoint_dir}}  --cache_dir\n",
      "  ${{inputs.cache_dir}}  --summary_dir ${{inputs.summary_dir}} --training_output ${{outputs.training_output}}\n",
      "  --augmentation ${{inputs.augmentation}}  --n_fft ${{inputs.n_fft}}  --hop_length\n",
      "  ${{inputs.hop_length}}  --sequence_len ${{inputs.sequence_len}}  --freq_compression\n",
      "  ${{inputs.freq_compression}}\n",
      "environment: azureml:whales-denoising-env@latest\n",
      "code: /mnt/batch/tasks/shared/LS_root/mounts/clusters/linapalk2/code/Users/linapalk/GitHub/humpback-whales-vocalizations-classification/HumpbackWhales/03_Denoising/ML_pipeline/orca_clean\n",
      "is_deterministic: true\n",
      "\n"
     ]
    }
   ],
   "source": [
    "print(train_model)"
   ]
  },
  {
   "cell_type": "markdown",
   "metadata": {},
   "source": [
    "# 3. Pipeline job\n",
    "## 3.1 Build pipeline"
   ]
  },
  {
   "cell_type": "code",
   "execution_count": 17,
   "metadata": {},
   "outputs": [],
   "source": [
    "if run_training_pipeline:\n",
    "    # Construct pipeline\n",
    "    @pipeline()\n",
    "    def pipeline_with_components_from_yaml(\n",
    "        whales_data_input,\n",
    "        noise_train_data_input,\n",
    "        noise_val_data_input,\n",
    "        noise_test_data_input,\n",
    "        training_outputs\n",
    "\n",
    "    ):\n",
    "        \"\"\"Pipeline with components defined via yaml.\"\"\"\n",
    "        train_component = train_model(\n",
    "            whales_data=whales_data_input,\n",
    "            noise_train_data=noise_train_data_input,\n",
    "            noise_val_data=noise_val_data_input,\n",
    "            noise_test_data=noise_test_data_input,\n",
    "            model_dir=\"models\",\n",
    "            log_dir=\"logs\",\n",
    "            checkpoint_dir=\"model_checkpoints\",\n",
    "            cache_dir=\"cache\",\n",
    "            summary_dir=\"summary\",\n",
    "        )\n",
    "\n",
    "        #mounted_output_dir = \"azureml://datastores/workspaceblobstore/paths/azureml/denoising/ML_pipeline\"\n",
    "\n",
    "        # train_component.outputs.model_dir = denoising_training_outputs.path + \"/models/\"\n",
    "        # train_component.outputs.log_dir = denoising_training_outputs.path + \"/logs/\"\n",
    "        # train_component.outputs.checkpoint_dir = denoising_training_outputs.path + \"/model_checkpoints/\"\n",
    "        # train_component.outputs.cache_dir = denoising_training_outputs.path + \"/cache/\"\n",
    "        # train_component.outputs.summary_dir = denoising_training_outputs.path + \"/summary/\"\n",
    "\n",
    "        train_component.inputs.model_dir = \"models\"\n",
    "        train_component.inputs.log_dir = \"logs\"\n",
    "        train_component.inputs.checkpoint_dir = \"model_checkpoints\"\n",
    "        train_component.inputs.cache_dir = \"cache\"\n",
    "        train_component.inputs.summary_dir = \"summary\"\n",
    "\n",
    "        train_component.outputs.training_output = Output(type=\"uri_folder\", path=training_outputs, mode=\"rw_mount\")\n",
    "\n",
    "    pipeline_job = pipeline_with_components_from_yaml(\n",
    "        whales_data_input=Input(type=\"uri_folder\", path=whales_data.path),\n",
    "        noise_train_data_input=Input(type=\"uri_folder\", path=noise_train_data.path),\n",
    "        noise_val_data_input=Input(type=\"uri_folder\", path=noise_val_data.path),\n",
    "        noise_test_data_input=Input(type=\"uri_folder\", path=noise_test_data.path),\n",
    "        training_outputs=denoising_training_outputs.path\n",
    "    )\n",
    "\n",
    "    # set pipeline level compute\n",
    "    pipeline_job.settings.default_compute = compute_instance_name"
   ]
  },
  {
   "cell_type": "code",
   "execution_count": 18,
   "metadata": {},
   "outputs": [],
   "source": [
    "if run_training_pipeline:\n",
    "    # Inspect built pipeline\n",
    "    print(pipeline_job.outputs)"
   ]
  },
  {
   "cell_type": "markdown",
   "metadata": {},
   "source": [
    "## 3.2 Submit pipeline job"
   ]
  },
  {
   "cell_type": "code",
   "execution_count": 16,
   "metadata": {},
   "outputs": [
    {
     "name": "stderr",
     "output_type": "stream",
     "text": [
      "Class AutoDeleteSettingSchema: This is an experimental class, and may change at any time. Please see https://aka.ms/azuremlexperimental for more information.\n",
      "Class AutoDeleteConditionSchema: This is an experimental class, and may change at any time. Please see https://aka.ms/azuremlexperimental for more information.\n",
      "Class BaseAutoDeleteSettingSchema: This is an experimental class, and may change at any time. Please see https://aka.ms/azuremlexperimental for more information.\n",
      "Class IntellectualPropertySchema: This is an experimental class, and may change at any time. Please see https://aka.ms/azuremlexperimental for more information.\n",
      "Class ProtectionLevelSchema: This is an experimental class, and may change at any time. Please see https://aka.ms/azuremlexperimental for more information.\n",
      "Class BaseIntellectualPropertySchema: This is an experimental class, and may change at any time. Please see https://aka.ms/azuremlexperimental for more information.\n"
     ]
    },
    {
     "data": {
      "text/html": [
       "<table style=\"width:100%\"><tr><th>Experiment</th><th>Name</th><th>Type</th><th>Status</th><th>Details Page</th></tr><tr><td>whales_denoising</td><td>helpful_brick_nbfdgs01jt</td><td>pipeline</td><td>Preparing</td><td><a href=\"https://ml.azure.com/runs/helpful_brick_nbfdgs01jt?wsid=/subscriptions/03fd01f6-6051-4545-a78e-ceaace399b96/resourcegroups/lianatests/workspaces/humpbackwhales-aml&amp;tid=16b3c013-d300-468d-ac64-7eda0820b6d3\" target=\"_blank\" rel=\"noopener\">Link to Azure Machine Learning studio</a></td></tr></table>"
      ],
      "text/plain": [
       "PipelineJob({'inputs': {'whales_data_input': <azure.ai.ml.entities._job.pipeline._io.base.PipelineInput object at 0x7fe12e6842b0>, 'noise_train_data_input': <azure.ai.ml.entities._job.pipeline._io.base.PipelineInput object at 0x7fe12e684040>, 'noise_val_data_input': <azure.ai.ml.entities._job.pipeline._io.base.PipelineInput object at 0x7fe12e684280>, 'noise_test_data_input': <azure.ai.ml.entities._job.pipeline._io.base.PipelineInput object at 0x7fe12e684490>, 'training_outputs': <azure.ai.ml.entities._job.pipeline._io.base.PipelineInput object at 0x7fe12e6844f0>}, 'outputs': {}, 'jobs': {}, 'component': PipelineComponent({'intellectual_property': None, 'auto_increment_version': False, 'source': 'REMOTE.WORKSPACE.JOB', 'is_anonymous': True, 'auto_delete_setting': None, 'name': 'azureml_anonymous', 'description': 'Pipeline with components defined via yaml.', 'tags': {}, 'properties': {}, 'print_as_yaml': True, 'id': None, 'Resource__source_path': None, 'base_path': '/mnt/batch/tasks/shared/LS_root/mounts/clusters/linapalk2/code/Users/linapalk/GitHub/humpback-whales-vocalizations-classification/HumpbackWhales/03_Denoising/ML_pipeline', 'creation_context': None, 'serialize': <msrest.serialization.Serializer object at 0x7fe12e6850c0>, 'version': '1', 'latest_version': None, 'schema': None, 'type': 'pipeline', 'display_name': 'pipeline_with_components_from_yaml', 'is_deterministic': None, 'inputs': {'whales_data_input': {}, 'noise_train_data_input': {}, 'noise_val_data_input': {}, 'noise_test_data_input': {}, 'training_outputs': {}}, 'outputs': {}, 'yaml_str': None, 'other_parameter': {}, 'jobs': {'train_component': Command({'parameters': {}, 'init': False, 'name': 'train_component', 'type': 'command', 'status': None, 'log_files': None, 'description': None, 'tags': {}, 'properties': {}, 'print_as_yaml': True, 'id': None, 'Resource__source_path': None, 'base_path': '/mnt/batch/tasks/shared/LS_root/mounts/clusters/linapalk2/code/Users/linapalk/GitHub/humpback-whales-vocalizations-classification/HumpbackWhales/03_Denoising/ML_pipeline', 'creation_context': None, 'serialize': <msrest.serialization.Serializer object at 0x7fe12e684220>, 'allowed_keys': {}, 'key_restriction': False, 'logger': <Logger attr_dict (WARNING)>, 'display_name': None, 'experiment_name': None, 'compute': None, 'services': None, 'comment': None, 'job_inputs': {'model_dir': 'models', 'log_dir': 'logs', 'checkpoint_dir': 'model_checkpoints', 'cache_dir': 'cache', 'summary_dir': 'summary', 'whales_data': '${{parent.inputs.whales_data_input}}', 'noise_train_data': '${{parent.inputs.noise_train_data_input}}', 'noise_val_data': '${{parent.inputs.noise_val_data_input}}', 'noise_test_data': '${{parent.inputs.noise_test_data_input}}'}, 'job_outputs': {'training_output': {'type': 'uri_folder', 'path': '${{parent.inputs.training_outputs}}', 'mode': 'rw_mount'}}, 'inputs': {'model_dir': <azure.ai.ml.entities._job.pipeline._io.base.NodeInput object at 0x7fe12e684a00>, 'log_dir': <azure.ai.ml.entities._job.pipeline._io.base.NodeInput object at 0x7fe12e684250>, 'checkpoint_dir': <azure.ai.ml.entities._job.pipeline._io.base.NodeInput object at 0x7fe12e684820>, 'cache_dir': <azure.ai.ml.entities._job.pipeline._io.base.NodeInput object at 0x7fe12e684760>, 'summary_dir': <azure.ai.ml.entities._job.pipeline._io.base.NodeInput object at 0x7fe12e6849d0>, 'whales_data': <azure.ai.ml.entities._job.pipeline._io.base.NodeInput object at 0x7fe12e685060>, 'noise_train_data': <azure.ai.ml.entities._job.pipeline._io.base.NodeInput object at 0x7fe12e684160>, 'noise_val_data': <azure.ai.ml.entities._job.pipeline._io.base.NodeInput object at 0x7fe12e6848b0>, 'noise_test_data': <azure.ai.ml.entities._job.pipeline._io.base.NodeInput object at 0x7fe12e685420>}, 'outputs': {'training_output': <azure.ai.ml.entities._job.pipeline._io.base.NodeOutput object at 0x7fe12e684790>}, 'component': 'azureml_anonymous:e1dab96e-88e3-44f6-a3bd-5500ddc7ec12', 'referenced_control_flow_node_instance_id': None, 'kwargs': {'services': None}, 'instance_id': 'a67ff570-c627-423b-9b32-860aa9e7d77a', 'source': 'REMOTE.WORKSPACE.COMPONENT', 'validate_required_input_not_provided': True, 'limits': None, 'identity': None, 'distribution': None, 'environment_variables': {}, 'environment': None, 'resources': None, 'queue_settings': None, 'swept': False})}, 'job_types': {'command': 1}, 'job_sources': {'REMOTE.WORKSPACE.COMPONENT': 1}, 'source_job_id': None}), 'type': 'pipeline', 'status': 'Preparing', 'log_files': None, 'name': 'helpful_brick_nbfdgs01jt', 'description': 'Pipeline with components defined via yaml.', 'tags': {}, 'properties': {'mlflow.source.git.repoURL': 'https://github.com/LianaN/humpback-whales-vocalizations-classification.git', 'mlflow.source.git.branch': 'training-pipeline-storage-issue', 'mlflow.source.git.commit': '82c62eb0c6ece2d3c6fb0da9368bdfc76cbfcf06', 'azureml.git.dirty': 'True', 'azureml.DevPlatv2': 'true', 'azureml.DatasetAccessMode': 'Asset', 'azureml.runsource': 'azureml.PipelineRun', 'runSource': 'MFE', 'runType': 'HTTP', 'azureml.parameters': '{\"training_outputs\":\"azureml://subscriptions/03fd01f6-6051-4545-a78e-ceaace399b96/resourcegroups/lianatests/workspaces/humpbackwhales-aml/datastores/workspaceblobstore/paths/LocalUpload/4f8ff5b98600d06cb1ca55913b1e6467/outputs/\"}', 'azureml.continue_on_step_failure': 'True', 'azureml.continue_on_failed_optional_input': 'True', 'azureml.enforceRerun': 'False', 'azureml.defaultComputeName': 'whalesdenoisinggpu2', 'azureml.defaultDataStoreName': 'workspaceblobstore', 'azureml.pipelineComponent': 'pipelinerun'}, 'print_as_yaml': True, 'id': '/subscriptions/03fd01f6-6051-4545-a78e-ceaace399b96/resourceGroups/lianatests/providers/Microsoft.MachineLearningServices/workspaces/humpbackwhales-aml/jobs/helpful_brick_nbfdgs01jt', 'Resource__source_path': None, 'base_path': '/mnt/batch/tasks/shared/LS_root/mounts/clusters/linapalk2/code/Users/linapalk/GitHub/humpback-whales-vocalizations-classification/HumpbackWhales/03_Denoising/ML_pipeline', 'creation_context': <azure.ai.ml.entities._system_data.SystemData object at 0x7fe12e684340>, 'serialize': <msrest.serialization.Serializer object at 0x7fe12e6842e0>, 'display_name': 'pipeline_with_components_from_yaml', 'experiment_name': 'whales_denoising', 'compute': None, 'services': {'Tracking': {'endpoint': 'azureml://westeurope.api.azureml.ms/mlflow/v1.0/subscriptions/03fd01f6-6051-4545-a78e-ceaace399b96/resourceGroups/lianatests/providers/Microsoft.MachineLearningServices/workspaces/humpbackwhales-aml?', 'type': 'Tracking'}, 'Studio': {'endpoint': 'https://ml.azure.com/runs/helpful_brick_nbfdgs01jt?wsid=/subscriptions/03fd01f6-6051-4545-a78e-ceaace399b96/resourcegroups/lianatests/workspaces/humpbackwhales-aml&tid=16b3c013-d300-468d-ac64-7eda0820b6d3', 'type': 'Studio'}}, 'settings': {}, 'identity': None, 'default_code': None, 'default_environment': None})"
      ]
     },
     "execution_count": 16,
     "metadata": {},
     "output_type": "execute_result"
    }
   ],
   "source": [
    "if run_training_pipeline:\n",
    "    # Submit pipeline job to workspace\n",
    "    pipeline_job = ml_client.jobs.create_or_update(\n",
    "        pipeline_job, experiment_name=\"whales_denoising\"\n",
    "    )\n",
    "    pipeline_job"
   ]
  },
  {
   "cell_type": "code",
   "execution_count": 17,
   "metadata": {},
   "outputs": [
    {
     "name": "stdout",
     "output_type": "stream",
     "text": [
      "RunId: helpful_brick_nbfdgs01jt\n",
      "Web View: https://ml.azure.com/runs/helpful_brick_nbfdgs01jt?wsid=/subscriptions/03fd01f6-6051-4545-a78e-ceaace399b96/resourcegroups/lianatests/workspaces/humpbackwhales-aml\n",
      "\n",
      "Streaming logs/azureml/executionlogs.txt\n",
      "========================================\n",
      "\n",
      "[2023-11-13 20:45:20Z] Submitting 1 runs, first five are: 941b546b:c248e52b-cf09-491f-b78f-50980627f849\n",
      "[2023-11-14 17:34:14Z] Completing processing run id c248e52b-cf09-491f-b78f-50980627f849.\n",
      "\n",
      "Execution Summary\n",
      "=================\n",
      "RunId: helpful_brick_nbfdgs01jt\n",
      "Web View: https://ml.azure.com/runs/helpful_brick_nbfdgs01jt?wsid=/subscriptions/03fd01f6-6051-4545-a78e-ceaace399b96/resourcegroups/lianatests/workspaces/humpbackwhales-aml\n",
      "\n"
     ]
    }
   ],
   "source": [
    "if run_training_pipeline:\n",
    "    # Wait until the job completes\n",
    "    ml_client.jobs.stream(pipeline_job.name)"
   ]
  },
  {
   "cell_type": "markdown",
   "metadata": {},
   "source": [
    "## 3.3 Register a model"
   ]
  },
  {
   "cell_type": "code",
   "execution_count": 14,
   "metadata": {},
   "outputs": [
    {
     "data": {
      "text/plain": [
       "Model({'job_name': None, 'intellectual_property': None, 'is_anonymous': False, 'auto_increment_version': False, 'auto_delete_setting': None, 'name': 'orca-clean-model-v1', 'description': 'Model trained with 100 epochs, whales_data_v2 and noise_train/test/val_v2.', 'tags': {}, 'properties': {}, 'print_as_yaml': True, 'id': '/subscriptions/03fd01f6-6051-4545-a78e-ceaace399b96/resourceGroups/lianatests/providers/Microsoft.MachineLearningServices/workspaces/humpbackwhales-aml/models/orca-clean-model-v1/versions/1', 'Resource__source_path': None, 'base_path': '/mnt/batch/tasks/shared/LS_root/mounts/clusters/linapalk2/code/Users/linapalk/GitHub/humpback-whales-vocalizations-classification/HumpbackWhales/03_Denoising/ML_pipeline', 'creation_context': <azure.ai.ml.entities._system_data.SystemData object at 0x7f4ec0b05a80>, 'serialize': <msrest.serialization.Serializer object at 0x7f4ec0b05f60>, 'version': '1', 'latest_version': None, 'path': 'azureml://subscriptions/03fd01f6-6051-4545-a78e-ceaace399b96/resourceGroups/lianatests/workspaces/humpbackwhales-aml/datastores/workspaceblobstore/paths/LocalUpload/4f8ff5b98600d06cb1ca55913b1e6467/outputs/models/ORCA-CLEAN.pk', 'datastore': None, 'utc_time_created': None, 'flavors': None, 'arm_type': 'model_version', 'type': 'custom_model', 'stage': 'Development'})"
      ]
     },
     "execution_count": 14,
     "metadata": {},
     "output_type": "execute_result"
    }
   ],
   "source": [
    "model_name = \"orca-clean-model-v1\"\n",
    "model_version = \"1\"\n",
    "\n",
    "# The model ORCA_CLEAN.pk trained with 100 epochs is available in Fileshare location: humpbackwhales/models\n",
    "# Alternatively you can train the model using the pipeline above by setting \"if run_training_pipeline\" to True\n",
    "run_model = Model(\n",
    "    path=f\"{denoising_training_outputs.path}models/ORCA-CLEAN.pk\",\n",
    "    name=\"orca-clean-model-v1\",\n",
    "    description=\"Model trained with 100 epochs, whales_data_v2 and noise_train/test/val_v2.\",\n",
    "    type=AssetTypes.CUSTOM_MODEL\n",
    ")\n",
    "\n",
    "ml_client.models.create_or_update(run_model)"
   ]
  },
  {
   "cell_type": "markdown",
   "metadata": {},
   "source": [
    "## 3.4 Create a real-time endpoint"
   ]
  },
  {
   "cell_type": "code",
   "execution_count": 19,
   "metadata": {},
   "outputs": [],
   "source": [
    "from azure.ai.ml.entities import ManagedOnlineEndpoint\n",
    "\n",
    "endpoint_name=\"whales-denoising-real-time\"\n",
    "\n",
    "endpoint = ManagedOnlineEndpoint(\n",
    "    name = endpoint_name, \n",
    "    description=\"Endpoint for real-time inference on the deep denoizing model\",\n",
    "    auth_mode=\"key\"\n",
    ")"
   ]
  },
  {
   "cell_type": "markdown",
   "metadata": {},
   "source": [
    "## 3.5 Deploy the endpoint"
   ]
  },
  {
   "cell_type": "code",
   "execution_count": 28,
   "metadata": {},
   "outputs": [],
   "source": [
    "from azure.ai.ml.entities import (\n",
    "    ManagedOnlineDeployment,\n",
    "    Model,\n",
    "    Environment,\n",
    "    CodeConfiguration,\n",
    ")\n",
    "          \n",
    "# Load the existing custom environment that was created in 1.4\n",
    "env = ml_client.environments.get(name=custom_env_name, version=env_version)\n",
    "\n",
    "# Load the existing model that was registered in 3.3\n",
    "model = ml_client.models.get(name=model_name, version=model_version)"
   ]
  },
  {
   "cell_type": "code",
   "execution_count": null,
   "metadata": {},
   "outputs": [],
   "source": [
    "# =========================================\n",
    "# STARTING FROM THIS CELL THE CODE IS W.I.P\n",
    "# =========================================\n",
    "orca_clean_deployment = ManagedOnlineDeployment(\n",
    "    name=\"OrcaClean\",\n",
    "    endpoint_name=endpoint_name,\n",
    "    model=model,\n",
    "    environment=env,\n",
    "    code_configuration=CodeConfiguration(\n",
    "        code=\"orca_clean\", scoring_script=\"predict_inference.py\"\n",
    "    ),\n",
    "    instance_type=\"Standard_DS3_v2\", # check if maybe we need GPU for the inference too\n",
    "    instance_count=1,\n",
    ")"
   ]
  },
  {
   "cell_type": "markdown",
   "metadata": {},
   "source": [
    "## 3.6 Test the deployment"
   ]
  },
  {
   "cell_type": "code",
   "execution_count": null,
   "metadata": {},
   "outputs": [],
   "source": []
  }
 ],
 "metadata": {
  "description": {
   "description": "Create pipeline with CommandComponents from local YAML file"
  },
  "kernel_info": {
   "name": "python310-sdkv2"
  },
  "kernelspec": {
   "display_name": "Python 3.10 - SDK v2",
   "language": "python",
   "name": "python310-sdkv2"
  },
  "language_info": {
   "codemirror_mode": {
    "name": "ipython",
    "version": 3
   },
   "file_extension": ".py",
   "mimetype": "text/x-python",
   "name": "python",
   "nbconvert_exporter": "python",
   "pygments_lexer": "ipython3",
   "version": "3.10.11"
  },
  "microsoft": {
   "ms_spell_check": {
    "ms_spell_check_language": "en"
   }
  },
  "nteract": {
   "version": "nteract-front-end@1.0.0"
  }
 },
 "nbformat": 4,
 "nbformat_minor": 2
}
