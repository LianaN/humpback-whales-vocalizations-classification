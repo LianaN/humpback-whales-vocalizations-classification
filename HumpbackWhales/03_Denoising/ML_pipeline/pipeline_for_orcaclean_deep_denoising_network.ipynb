{
 "cells": [
  {
   "cell_type": "markdown",
   "metadata": {},
   "source": [
    "# Pipeline for ORCA-CLEAN Deep Denoizing Network\n",
    "\n",
    "**Requirements** - In order to run this notebook, you will need:\n",
    "- A basic understanding of Machine Learning\n",
    "- An Azure account with an active subscription - [Create an account for free](https://azure.microsoft.com/free/?WT.mc_id=A261C142F)\n",
    "- An Azure ML workspace with computer cluster - [Configure workspace](../../configuration.ipynb)\n",
    "- A python environment\n",
    "- Installed Azure Machine Learning Python SDK v2 - [install instructions](../../../README.md) - check the getting started section"
   ]
  },
  {
   "cell_type": "markdown",
   "metadata": {},
   "source": [
    "# 1. Connect to Azure Machine Learning Workspace\n",
    "\n",
    "The [workspace](https://docs.microsoft.com/en-us/azure/machine-learning/concept-workspace) is the top-level resource for Azure Machine Learning, providing a centralized place to work with all the artifacts you create when you use Azure Machine Learning. In this section we will connect to the workspace in which the job will be run.\n",
    "\n",
    "## 1.1 Import the required libraries"
   ]
  },
  {
   "cell_type": "code",
   "execution_count": 20,
   "metadata": {},
   "outputs": [],
   "source": [
    "import datetime\n",
    "\n",
    "from azure.identity import DefaultAzureCredential, InteractiveBrowserCredential\n",
    "\n",
    "from azure.ai.ml import MLClient, Input, Output\n",
    "from azure.ai.ml.dsl import pipeline\n",
    "from azure.ai.ml import load_component\n",
    "from azure.ai.ml.entities import AmlCompute, Environment, Model, Data\n",
    "from azure.ai.ml.constants import AssetTypes"
   ]
  },
  {
   "cell_type": "markdown",
   "metadata": {},
   "source": [
    "## 1.2 Configure credential\n",
    "\n",
    "We are using `DefaultAzureCredential` to get access to workspace. \n",
    "`DefaultAzureCredential` should be capable of handling most Azure SDK authentication scenarios. \n",
    "\n",
    "Reference for more available credentials if it does not work for you: [configure credential example](../../configuration.ipynb), [azure-identity reference doc](https://docs.microsoft.com/en-us/python/api/azure-identity/azure.identity?view=azure-python)."
   ]
  },
  {
   "cell_type": "code",
   "execution_count": 21,
   "metadata": {},
   "outputs": [],
   "source": [
    "try:\n",
    "    credential = DefaultAzureCredential()\n",
    "    # Check if given credential can get token successfully.\n",
    "    credential.get_token(\"https://management.azure.com/.default\")\n",
    "except Exception as ex:\n",
    "    # Fall back to InteractiveBrowserCredential in case DefaultAzureCredential not work\n",
    "    credential = InteractiveBrowserCredential()"
   ]
  },
  {
   "cell_type": "markdown",
   "metadata": {},
   "source": [
    "## 1.3 Get a handle to the workspace\n",
    "\n",
    "We use config file to connect to a workspace. The Azure ML workspace should be configured with computer cluster. [Check this notebook for configure a workspace](../../configuration.ipynb)"
   ]
  },
  {
   "cell_type": "code",
   "execution_count": 22,
   "metadata": {},
   "outputs": [
    {
     "name": "stderr",
     "output_type": "stream",
     "text": [
      "Found the config file in: /config.json\n"
     ]
    },
    {
     "name": "stdout",
     "output_type": "stream",
     "text": [
      "enable_node_public_ip: true\n",
      "id: /subscriptions/03fd01f6-6051-4545-a78e-ceaace399b96/resourceGroups/lianatests/providers/Microsoft.MachineLearningServices/workspaces/humpbackwhales-aml/computes/whalesdenoisinggpu2\n",
      "idle_time_before_scale_down: 180\n",
      "location: westeurope\n",
      "max_instances: 4\n",
      "min_instances: 0\n",
      "name: whalesdenoisinggpu2\n",
      "network_settings: {}\n",
      "provisioning_state: Succeeded\n",
      "size: STANDARD_NC24ADS_A100_V4\n",
      "ssh_public_access_enabled: true\n",
      "tier: dedicated\n",
      "type: amlcompute\n",
      "\n"
     ]
    }
   ],
   "source": [
    "# Get a handle to workspace\n",
    "ml_client = MLClient.from_config(credential=credential)\n",
    "\n",
    "compute_instance_name = \"whalesdenoisinggpu2\"\n",
    "try:\n",
    "    print(ml_client.compute.get(compute_instance_name))\n",
    "except Exception as ex:\n",
    "    compute_instance = AmlCompute(\n",
    "        name=compute_instance_name,\n",
    "        type=\"amlcompute\",\n",
    "        size=\"Standard_NC24ads_A100_v4\",\n",
    "        # Minimum running nodes when there is no job running\n",
    "        min_instances=0,\n",
    "        # Nodes in cluster\n",
    "        max_instances=4,\n",
    "        # How many seconds will the node running after the job termination\n",
    "        idle_time_before_scale_down=180,\n",
    "        # Dedicated or LowPriority. The latter is cheaper but there is a chance of job termination\n",
    "        tier=\"Dedicated\",\n",
    "    )\n",
    "    ml_client.begin_create_or_update(compute_instance).result()\n",
    "    print(f\"Created new compute instance: {ml_client.compute.get(compute_instance_name)}\")"
   ]
  },
  {
   "cell_type": "markdown",
   "metadata": {},
   "source": [
    "## 1.4 Create a custom environment"
   ]
  },
  {
   "cell_type": "code",
   "execution_count": 23,
   "metadata": {},
   "outputs": [
    {
     "name": "stdout",
     "output_type": "stream",
     "text": [
      "Environment with name whales-denoising-env is registered to workspace, the environment version is 1.8\n"
     ]
    }
   ],
   "source": [
    "custom_env_name = \"whales-denoising-env\"\n",
    "version = \"1.8\"\n",
    "dependencies_dir = \"./dependencies\"\n",
    "\n",
    "try:\n",
    "    pipeline_job_env = ml_client.environments.get(name=custom_env_name, version=version)\n",
    "    print(\n",
    "        f\"Environment with name {pipeline_job_env.name} is registered to workspace, the environment version is {pipeline_job_env.version}\"\n",
    "    )\n",
    "except:\n",
    "    pipeline_job_env = Environment(\n",
    "        name=custom_env_name,\n",
    "        description=\"Custom environment for running ORCA-CLEAN pipeline\",\n",
    "        conda_file=os.path.join(dependencies_dir, \"conda.yaml\"),\n",
    "        image=\"mcr.microsoft.com/azureml/curated/acpt-pytorch-2.0-cuda11.7:17\", #\"mcr.microsoft.com/azureml/openmpi3.1.2-cuda10.1-cudnn7-ubuntu18.04\", #\"mcr.microsoft.com/azureml/curated/acpt-pytorch-1.13-cuda11.7:18\",\n",
    "        version=version,\n",
    "    )\n",
    "\n",
    "    pipeline_job_env = ml_client.environments.create_or_update(pipeline_job_env)\n",
    "    print(\n",
    "        f\"Environment with name {pipeline_job_env.name} is registered to workspace, the environment version is {pipeline_job_env.version}\"\n",
    "    )"
   ]
  },
  {
   "cell_type": "markdown",
   "metadata": {},
   "source": [
    "## 1.5 Create the Data asset objects"
   ]
  },
  {
   "cell_type": "code",
   "execution_count": 24,
   "metadata": {},
   "outputs": [],
   "source": [
    "whales_data_name = \"whales_data\"\n",
    "noise_train_data_name = \"noise_train_data\"\n",
    "noise_test_data_name = \"noise_test_data\"\n",
    "noise_val_data_name = \"noise_val_data\"\n",
    "version = \"2\""
   ]
  },
  {
   "cell_type": "code",
   "execution_count": 25,
   "metadata": {},
   "outputs": [],
   "source": [
    "path = \"/mnt/humpbackwhales/data/denoising_data/whales_data_v2\"\n",
    "whales_data_name = \"whales_data\"\n",
    "\n",
    "try:\n",
    "    whales_data = ml_client.data.get(whales_data_name, version=version)\n",
    "except:\n",
    "    whales_data = Data(\n",
    "        path=path,\n",
    "        type=AssetTypes.URI_FOLDER,\n",
    "        description=\"whales vocalizations of all types: moans, barks, creaks, etc.\",\n",
    "        name=whales_data_name,\n",
    "        version=version,\n",
    "    )\n",
    "    ml_client.data.create_or_update(whales_data)"
   ]
  },
  {
   "cell_type": "code",
   "execution_count": 26,
   "metadata": {},
   "outputs": [],
   "source": [
    "path = \"/mnt/humpbackwhales/data/denoising_data/noise_train_v2\"\n",
    "noise_train_data_name = \"noise_train_data\"\n",
    "\n",
    "try:\n",
    "    noise_train_data = ml_client.data.get(noise_train_data_name, version=version)\n",
    "except:\n",
    "    noise_train_data = Data(\n",
    "        path=path,\n",
    "        type=AssetTypes.URI_FOLDER,\n",
    "        description=\"5-sec segments of only-noise retrieved from raw hydrophone recordings\",\n",
    "        name=noise_train_data_name,\n",
    "        version=version,\n",
    "    )\n",
    "    ml_client.data.create_or_update(noise_train_data)"
   ]
  },
  {
   "cell_type": "code",
   "execution_count": 27,
   "metadata": {},
   "outputs": [],
   "source": [
    "path = \"/mnt/humpbackwhales/data/denoising_data/noise_test_v2\"\n",
    "noise_test_data_name = \"noise_test_data\"\n",
    "\n",
    "try:\n",
    "    noise_test_data = ml_client.data.get(noise_test_data_name, version=version)\n",
    "except:\n",
    "    noise_test_data = Data(\n",
    "        path=path,\n",
    "        type=AssetTypes.URI_FOLDER,\n",
    "        description=\"5-sec segments of only-noise retrieved from raw hydrophone recordings\",\n",
    "        name=noise_test_data_name,\n",
    "        version=version,\n",
    "    )\n",
    "    ml_client.data.create_or_update(noise_test_data)"
   ]
  },
  {
   "cell_type": "code",
   "execution_count": 28,
   "metadata": {},
   "outputs": [],
   "source": [
    "path = \"/mnt/humpbackwhales/data/denoising_data/noise_val_v2\"\n",
    "noise_val_data_name = \"noise_val_data\"\n",
    "\n",
    "try:\n",
    "    noise_val_data = ml_client.data.get(noise_val_data_name, version=version)\n",
    "except:\n",
    "    noise_val_data = Data(\n",
    "        path=path,\n",
    "        type=AssetTypes.URI_FOLDER,\n",
    "        description=\"5-sec segments of only-noise retrieved from raw hydrophone recordings\",\n",
    "        name=noise_val_data_name,\n",
    "        version=version,\n",
    "    )\n",
    "    ml_client.data.create_or_update(noise_val_data)"
   ]
  },
  {
   "cell_type": "code",
   "execution_count": 29,
   "metadata": {},
   "outputs": [],
   "source": [
    "path = \"/mnt/humpbackwhales/denoising/outputs\"\n",
    "denoising_training_outputs_name = \"denoising_training_outputs\"\n",
    "\n",
    "try:\n",
    "    denoising_training_outputs = ml_client.data.get(denoising_training_outputs_name, version=version)\n",
    "except:\n",
    "    denoising_training_outputs = Data(\n",
    "        path=path,\n",
    "        type=AssetTypes.URI_FOLDER,\n",
    "        description=\"results of deep denoising network's training\",\n",
    "        name=denoising_training_outputs_name,\n",
    "        version=version,\n",
    "    )\n",
    "    ml_client.data.create_or_update(denoising_training_outputs)"
   ]
  },
  {
   "cell_type": "code",
   "execution_count": 30,
   "metadata": {},
   "outputs": [],
   "source": [
    "default_datastore_name = \"workspaceblobstore\"  # workspaceblobstore, workspacefilestore"
   ]
  },
  {
   "cell_type": "markdown",
   "metadata": {},
   "source": [
    "# 2. Define and create components into workspace\n",
    "## 2.1 Load components from YAML"
   ]
  },
  {
   "cell_type": "code",
   "execution_count": 31,
   "metadata": {},
   "outputs": [],
   "source": [
    "parent_dir = \".\"\n",
    "train_model = load_component(source=parent_dir + \"/train_model.yml\")\n",
    "#score_data = load_component(source=parent_dir + \"/score_data.yml\")\n",
    "#eval_model = load_component(source=parent_dir + \"/eval_model.yml\")"
   ]
  },
  {
   "cell_type": "markdown",
   "metadata": {},
   "source": [
    "## 2.2 Inspect loaded component"
   ]
  },
  {
   "cell_type": "code",
   "execution_count": 32,
   "metadata": {},
   "outputs": [
    {
     "name": "stdout",
     "output_type": "stream",
     "text": [
      "$schema: https://azuremlschemas.azureedge.net/latest/commandComponent.schema.json\n",
      "name: train_model\n",
      "version: 0.0.1\n",
      "display_name: Train Deep Denoising Model\n",
      "description: The training component\n",
      "type: command\n",
      "inputs:\n",
      "  whales_data:\n",
      "    type: uri_folder\n",
      "  noise_train_data:\n",
      "    type: uri_folder\n",
      "  noise_val_data:\n",
      "    type: uri_folder\n",
      "  noise_test_data:\n",
      "    type: uri_folder\n",
      "  max_train_epochs:\n",
      "    type: integer\n",
      "    default: '150'\n",
      "  learning_rate:\n",
      "    type: number\n",
      "    default: '0.001'\n",
      "  batch_size:\n",
      "    type: integer\n",
      "    default: '16'\n",
      "  num_workers:\n",
      "    type: integer\n",
      "    default: '6'\n",
      "  augmentation:\n",
      "    type: integer\n",
      "    default: '1'\n",
      "  n_fft:\n",
      "    type: integer\n",
      "    default: '4096'\n",
      "  hop_length:\n",
      "    type: integer\n",
      "    default: '441'\n",
      "  sequence_len:\n",
      "    type: integer\n",
      "    default: '1280'\n",
      "  freq_compression:\n",
      "    type: string\n",
      "    default: linear\n",
      "outputs:\n",
      "  model_dir:\n",
      "    type: uri_folder\n",
      "    mode: upload\n",
      "  log_dir:\n",
      "    type: uri_folder\n",
      "    mode: upload\n",
      "  checkpoint_dir:\n",
      "    type: uri_folder\n",
      "    mode: upload\n",
      "  cache_dir:\n",
      "    type: uri_folder\n",
      "    mode: upload\n",
      "  summary_dir:\n",
      "    type: uri_folder\n",
      "    mode: upload\n",
      "command: python main.py  --debug  --random_val --max_train_epochs ${{inputs.max_train_epochs}}  --lr\n",
      "  ${{inputs.learning_rate}}  --batch_size ${{inputs.batch_size}}  --num_workers ${{inputs.num_workers}}  --data_dir\n",
      "  ${{inputs.whales_data}}  --noise_dir_train ${{inputs.noise_train_data}}  --noise_dir_val\n",
      "  ${{inputs.noise_val_data}}  --noise_dir_test ${{inputs.noise_test_data}}  --model_dir\n",
      "  ${{outputs.model_dir}}  --log_dir ${{outputs.log_dir}}  --checkpoint_dir ${{outputs.checkpoint_dir}}  --cache_dir\n",
      "  ${{outputs.cache_dir}}  --summary_dir ${{outputs.summary_dir}}  --augmentation ${{inputs.augmentation}}  --n_fft\n",
      "  ${{inputs.n_fft}}  --hop_length ${{inputs.hop_length}}  --sequence_len ${{inputs.sequence_len}}  --freq_compression\n",
      "  ${{inputs.freq_compression}}\n",
      "environment: azureml:whales-denoising-env:1.8\n",
      "code: /mnt/batch/tasks/shared/LS_root/mounts/clusters/linapalk2/code/Users/linapalk/ML_pipeline/orca_clean\n",
      "is_deterministic: true\n",
      "\n"
     ]
    }
   ],
   "source": [
    "# Print the component as yaml\n",
    "print(train_model)"
   ]
  },
  {
   "cell_type": "markdown",
   "metadata": {},
   "source": [
    "# 3. Pipeline job\n",
    "## 3.1 Build pipeline"
   ]
  },
  {
   "cell_type": "code",
   "execution_count": 33,
   "metadata": {},
   "outputs": [],
   "source": [
    "# Construct pipeline\n",
    "@pipeline()\n",
    "def pipeline_with_components_from_yaml(\n",
    "    whales_data_input,\n",
    "    noise_train_data_input,\n",
    "    noise_val_data_input,\n",
    "    noise_test_data_input,\n",
    "    max_train_epochs,\n",
    "    \n",
    "):\n",
    "    \"\"\"Pipeline with components defined via yaml.\"\"\"\n",
    "    train_component = train_model(\n",
    "        whales_data=whales_data_input,\n",
    "        noise_train_data=noise_train_data_input,\n",
    "        noise_val_data=noise_val_data_input,\n",
    "        noise_test_data=noise_test_data_input,\n",
    "        max_train_epochs=max_train_epochs\n",
    "    )\n",
    "    \n",
    "    #mounted_output_dir = \"azureml://datastores/workspaceblobstore/paths/azureml/denoising/ML_pipeline\"\n",
    "    \n",
    "    train_component.outputs.model_dir = denoising_training_outputs.path + \"/models/\"\n",
    "    train_component.outputs.log_dir = denoising_training_outputs.path + \"/logs/\"\n",
    "    train_component.outputs.checkpoint_dir = denoising_training_outputs.path + \"/model_checkpoints/\"\n",
    "    train_component.outputs.cache_dir = denoising_training_outputs.path + \"/cache/\"\n",
    "    train_component.outputs.summary_dir = denoising_training_outputs.path + \"/summary/\"\n",
    "    \n",
    "    return {\n",
    "        \"trained_model\": train_component.outputs.model_dir,\n",
    "        \"logs\": train_component.outputs.log_dir,\n",
    "        \"checkpoints\": train_component.outputs.checkpoint_dir,\n",
    "        \"cache\": train_component.outputs.cache_dir,\n",
    "        \"summary\": train_component.outputs.summary_dir\n",
    "    }\n",
    "\n",
    "whales_data_name = \"whales_data\"\n",
    "noise_train_data_name = \"noise_train_data\"\n",
    "noise_test_data_name = \"noise_test_data\"\n",
    "noise_val_data_name = \"noise_val_data\"\n",
    "\n",
    "pipeline_job = pipeline_with_components_from_yaml(\n",
    "    whales_data_input=Input(type=\"uri_folder\", path=whales_data.path),\n",
    "    noise_train_data_input=Input(type=\"uri_folder\", path=noise_train_data.path),\n",
    "    noise_val_data_input=Input(type=\"uri_folder\", path=noise_val_data.path),\n",
    "    noise_test_data_input=Input(type=\"uri_folder\", path=noise_test_data.path),\n",
    "    max_train_epochs=2,\n",
    ")\n",
    "\n",
    "# set pipeline level compute\n",
    "pipeline_job.settings.default_compute = compute_instance_name"
   ]
  },
  {
   "cell_type": "code",
   "execution_count": 34,
   "metadata": {},
   "outputs": [
    {
     "name": "stdout",
     "output_type": "stream",
     "text": [
      "display_name: pipeline_with_components_from_yaml\n",
      "description: Pipeline with components defined via yaml.\n",
      "type: pipeline\n",
      "inputs:\n",
      "  whales_data_input:\n",
      "    type: uri_folder\n",
      "    path: azureml://subscriptions/03fd01f6-6051-4545-a78e-ceaace399b96/resourcegroups/lianatests/workspaces/humpbackwhales-aml/datastores/workspaceblobstore/paths/LocalUpload/c4f8edf663ec11fe0d34c4808ef63531/whales_data_v2/\n",
      "  noise_train_data_input:\n",
      "    type: uri_folder\n",
      "    path: azureml://subscriptions/03fd01f6-6051-4545-a78e-ceaace399b96/resourcegroups/lianatests/workspaces/humpbackwhales-aml/datastores/workspaceblobstore/paths/LocalUpload/2a9e34de5512ddd07b23092d3f2dd598/noise_train_v2/\n",
      "  noise_val_data_input:\n",
      "    type: uri_folder\n",
      "    path: azureml://subscriptions/03fd01f6-6051-4545-a78e-ceaace399b96/resourcegroups/lianatests/workspaces/humpbackwhales-aml/datastores/workspaceblobstore/paths/LocalUpload/98989997927c524eb723a11cea8afec0/noise_val_v2/\n",
      "  noise_test_data_input:\n",
      "    type: uri_folder\n",
      "    path: azureml://subscriptions/03fd01f6-6051-4545-a78e-ceaace399b96/resourcegroups/lianatests/workspaces/humpbackwhales-aml/datastores/workspaceblobstore/paths/LocalUpload/3fa1fe4454f848607af1db6b83f2573b/noise_test_v2/\n",
      "  max_train_epochs: 2\n",
      "outputs:\n",
      "  trained_model:\n",
      "    type: uri_folder\n",
      "    path: azureml://subscriptions/03fd01f6-6051-4545-a78e-ceaace399b96/resourcegroups/lianatests/workspaces/humpbackwhales-aml/datastores/workspaceblobstore/paths/LocalUpload/4f8ff5b98600d06cb1ca55913b1e6467/outputs//models/\n",
      "  logs:\n",
      "    type: uri_folder\n",
      "    path: azureml://subscriptions/03fd01f6-6051-4545-a78e-ceaace399b96/resourcegroups/lianatests/workspaces/humpbackwhales-aml/datastores/workspaceblobstore/paths/LocalUpload/4f8ff5b98600d06cb1ca55913b1e6467/outputs//logs/\n",
      "  checkpoints:\n",
      "    type: uri_folder\n",
      "    path: azureml://subscriptions/03fd01f6-6051-4545-a78e-ceaace399b96/resourcegroups/lianatests/workspaces/humpbackwhales-aml/datastores/workspaceblobstore/paths/LocalUpload/4f8ff5b98600d06cb1ca55913b1e6467/outputs//model_checkpoints/\n",
      "  cache:\n",
      "    type: uri_folder\n",
      "    path: azureml://subscriptions/03fd01f6-6051-4545-a78e-ceaace399b96/resourcegroups/lianatests/workspaces/humpbackwhales-aml/datastores/workspaceblobstore/paths/LocalUpload/4f8ff5b98600d06cb1ca55913b1e6467/outputs//cache/\n",
      "  summary:\n",
      "    type: uri_folder\n",
      "    path: azureml://subscriptions/03fd01f6-6051-4545-a78e-ceaace399b96/resourcegroups/lianatests/workspaces/humpbackwhales-aml/datastores/workspaceblobstore/paths/LocalUpload/4f8ff5b98600d06cb1ca55913b1e6467/outputs//summary/\n",
      "jobs:\n",
      "  train_component:\n",
      "    type: command\n",
      "    inputs:\n",
      "      whales_data:\n",
      "        path: ${{parent.inputs.whales_data_input}}\n",
      "      noise_train_data:\n",
      "        path: ${{parent.inputs.noise_train_data_input}}\n",
      "      noise_val_data:\n",
      "        path: ${{parent.inputs.noise_val_data_input}}\n",
      "      noise_test_data:\n",
      "        path: ${{parent.inputs.noise_test_data_input}}\n",
      "      max_train_epochs:\n",
      "        path: ${{parent.inputs.max_train_epochs}}\n",
      "    outputs:\n",
      "      model_dir: ${{parent.outputs.trained_model}}\n",
      "      log_dir: ${{parent.outputs.logs}}\n",
      "      checkpoint_dir: ${{parent.outputs.checkpoints}}\n",
      "      cache_dir: ${{parent.outputs.cache}}\n",
      "      summary_dir: ${{parent.outputs.summary}}\n",
      "    component:\n",
      "      $schema: https://azuremlschemas.azureedge.net/latest/commandComponent.schema.json\n",
      "      name: train_model\n",
      "      version: 0.0.1\n",
      "      display_name: Train Deep Denoising Model\n",
      "      description: The training component\n",
      "      type: command\n",
      "      inputs:\n",
      "        whales_data:\n",
      "          type: uri_folder\n",
      "        noise_train_data:\n",
      "          type: uri_folder\n",
      "        noise_val_data:\n",
      "          type: uri_folder\n",
      "        noise_test_data:\n",
      "          type: uri_folder\n",
      "        max_train_epochs:\n",
      "          type: integer\n",
      "          default: '150'\n",
      "        learning_rate:\n",
      "          type: number\n",
      "          default: '0.001'\n",
      "        batch_size:\n",
      "          type: integer\n",
      "          default: '16'\n",
      "        num_workers:\n",
      "          type: integer\n",
      "          default: '6'\n",
      "        augmentation:\n",
      "          type: integer\n",
      "          default: '1'\n",
      "        n_fft:\n",
      "          type: integer\n",
      "          default: '4096'\n",
      "        hop_length:\n",
      "          type: integer\n",
      "          default: '441'\n",
      "        sequence_len:\n",
      "          type: integer\n",
      "          default: '1280'\n",
      "        freq_compression:\n",
      "          type: string\n",
      "          default: linear\n",
      "      outputs:\n",
      "        model_dir:\n",
      "          type: uri_folder\n",
      "          mode: upload\n",
      "        log_dir:\n",
      "          type: uri_folder\n",
      "          mode: upload\n",
      "        checkpoint_dir:\n",
      "          type: uri_folder\n",
      "          mode: upload\n",
      "        cache_dir:\n",
      "          type: uri_folder\n",
      "          mode: upload\n",
      "        summary_dir:\n",
      "          type: uri_folder\n",
      "          mode: upload\n",
      "      command: python main.py  --debug  --random_val --max_train_epochs ${{inputs.max_train_epochs}}  --lr\n",
      "        ${{inputs.learning_rate}}  --batch_size ${{inputs.batch_size}}  --num_workers\n",
      "        ${{inputs.num_workers}}  --data_dir ${{inputs.whales_data}}  --noise_dir_train\n",
      "        ${{inputs.noise_train_data}}  --noise_dir_val ${{inputs.noise_val_data}}  --noise_dir_test\n",
      "        ${{inputs.noise_test_data}}  --model_dir ${{outputs.model_dir}}  --log_dir\n",
      "        ${{outputs.log_dir}}  --checkpoint_dir ${{outputs.checkpoint_dir}}  --cache_dir\n",
      "        ${{outputs.cache_dir}}  --summary_dir ${{outputs.summary_dir}}  --augmentation\n",
      "        ${{inputs.augmentation}}  --n_fft ${{inputs.n_fft}}  --hop_length ${{inputs.hop_length}}  --sequence_len\n",
      "        ${{inputs.sequence_len}}  --freq_compression ${{inputs.freq_compression}}\n",
      "      environment: azureml:whales-denoising-env:1.8\n",
      "      code: /mnt/batch/tasks/shared/LS_root/mounts/clusters/linapalk2/code/Users/linapalk/ML_pipeline/orca_clean\n",
      "      is_deterministic: true\n",
      "settings:\n",
      "  default_compute: azureml:whalesdenoisinggpu2\n",
      "\n"
     ]
    }
   ],
   "source": [
    "# Inspect built pipeline\n",
    "print(pipeline_job)"
   ]
  },
  {
   "cell_type": "markdown",
   "metadata": {},
   "source": [
    "## 3.2 Submit pipeline job"
   ]
  },
  {
   "cell_type": "code",
   "execution_count": 35,
   "metadata": {},
   "outputs": [
    {
     "name": "stderr",
     "output_type": "stream",
     "text": [
      "\u001b[32mUploading orca_clean (0.26 MBs): 100%|██████████| 262803/262803 [00:00<00:00, 374134.71it/s]\n",
      "\u001b[39m\n",
      "\n"
     ]
    },
    {
     "data": {
      "text/html": [
       "<table style=\"width:100%\"><tr><th>Experiment</th><th>Name</th><th>Type</th><th>Status</th><th>Details Page</th></tr><tr><td>whales_denoising</td><td>teal_actor_t1g8n1rkbc</td><td>pipeline</td><td>Preparing</td><td><a href=\"https://ml.azure.com/runs/teal_actor_t1g8n1rkbc?wsid=/subscriptions/03fd01f6-6051-4545-a78e-ceaace399b96/resourcegroups/lianatests/workspaces/humpbackwhales-aml&amp;tid=16b3c013-d300-468d-ac64-7eda0820b6d3\" target=\"_blank\" rel=\"noopener\">Link to Azure Machine Learning studio</a></td></tr></table>"
      ],
      "text/plain": [
       "PipelineJob({'inputs': {'whales_data_input': <azure.ai.ml.entities._job.pipeline._io.base.PipelineInput object at 0x7f3f991d94b0>, 'noise_train_data_input': <azure.ai.ml.entities._job.pipeline._io.base.PipelineInput object at 0x7f3f991da800>, 'noise_val_data_input': <azure.ai.ml.entities._job.pipeline._io.base.PipelineInput object at 0x7f3f991d9900>, 'noise_test_data_input': <azure.ai.ml.entities._job.pipeline._io.base.PipelineInput object at 0x7f3f991d95a0>, 'max_train_epochs': <azure.ai.ml.entities._job.pipeline._io.base.PipelineInput object at 0x7f3f991d9960>}, 'outputs': {'trained_model': <azure.ai.ml.entities._job.pipeline._io.base.PipelineOutput object at 0x7f3f991da890>, 'logs': <azure.ai.ml.entities._job.pipeline._io.base.PipelineOutput object at 0x7f3f991860e0>, 'checkpoints': <azure.ai.ml.entities._job.pipeline._io.base.PipelineOutput object at 0x7f3f99185f00>, 'cache': <azure.ai.ml.entities._job.pipeline._io.base.PipelineOutput object at 0x7f3f991859c0>, 'summary': <azure.ai.ml.entities._job.pipeline._io.base.PipelineOutput object at 0x7f3f99186170>}, 'jobs': {}, 'component': PipelineComponent({'intellectual_property': None, 'auto_increment_version': False, 'source': 'REMOTE.WORKSPACE.JOB', 'is_anonymous': True, 'auto_delete_setting': None, 'name': 'azureml_anonymous', 'description': 'Pipeline with components defined via yaml.', 'tags': {}, 'properties': {}, 'print_as_yaml': True, 'id': None, 'Resource__source_path': None, 'base_path': '/mnt/batch/tasks/shared/LS_root/mounts/clusters/linapalk2/code/Users/linapalk/ML_pipeline', 'creation_context': None, 'serialize': <msrest.serialization.Serializer object at 0x7f3f991d9cc0>, 'version': '1', 'latest_version': None, 'schema': None, 'type': 'pipeline', 'display_name': 'pipeline_with_components_from_yaml', 'is_deterministic': None, 'inputs': {'whales_data_input': {}, 'noise_train_data_input': {}, 'noise_val_data_input': {}, 'noise_test_data_input': {}, 'max_train_epochs': {}}, 'outputs': {'trained_model': {}, 'logs': {}, 'checkpoints': {}, 'cache': {}, 'summary': {}}, 'yaml_str': None, 'other_parameter': {}, 'jobs': {'train_component': Command({'parameters': {}, 'init': False, 'name': 'train_component', 'type': 'command', 'status': None, 'log_files': None, 'description': None, 'tags': {}, 'properties': {}, 'print_as_yaml': True, 'id': None, 'Resource__source_path': None, 'base_path': '/mnt/batch/tasks/shared/LS_root/mounts/clusters/linapalk2/code/Users/linapalk/ML_pipeline', 'creation_context': None, 'serialize': <msrest.serialization.Serializer object at 0x7f3f990045e0>, 'allowed_keys': {}, 'key_restriction': False, 'logger': <Logger attr_dict (WARNING)>, 'display_name': None, 'experiment_name': None, 'compute': None, 'services': None, 'comment': None, 'job_inputs': {'whales_data': '${{parent.inputs.whales_data_input}}', 'noise_train_data': '${{parent.inputs.noise_train_data_input}}', 'noise_val_data': '${{parent.inputs.noise_val_data_input}}', 'noise_test_data': '${{parent.inputs.noise_test_data_input}}', 'max_train_epochs': '${{parent.inputs.max_train_epochs}}'}, 'job_outputs': {'model_dir': '${{parent.outputs.trained_model}}', 'log_dir': '${{parent.outputs.logs}}', 'checkpoint_dir': '${{parent.outputs.checkpoints}}', 'cache_dir': '${{parent.outputs.cache}}', 'summary_dir': '${{parent.outputs.summary}}'}, 'inputs': {'whales_data': <azure.ai.ml.entities._job.pipeline._io.base.NodeInput object at 0x7f3f991ad450>, 'noise_train_data': <azure.ai.ml.entities._job.pipeline._io.base.NodeInput object at 0x7f3f991ad540>, 'noise_val_data': <azure.ai.ml.entities._job.pipeline._io.base.NodeInput object at 0x7f3f991af9a0>, 'noise_test_data': <azure.ai.ml.entities._job.pipeline._io.base.NodeInput object at 0x7f3f991adab0>, 'max_train_epochs': <azure.ai.ml.entities._job.pipeline._io.base.NodeInput object at 0x7f3f991af460>}, 'outputs': {'model_dir': <azure.ai.ml.entities._job.pipeline._io.base.NodeOutput object at 0x7f3f9bdea770>, 'log_dir': <azure.ai.ml.entities._job.pipeline._io.base.NodeOutput object at 0x7f3f99067730>, 'checkpoint_dir': <azure.ai.ml.entities._job.pipeline._io.base.NodeOutput object at 0x7f3f990655a0>, 'cache_dir': <azure.ai.ml.entities._job.pipeline._io.base.NodeOutput object at 0x7f3f99067700>, 'summary_dir': <azure.ai.ml.entities._job.pipeline._io.base.NodeOutput object at 0x7f3f99067670>}, 'component': 'azureml_anonymous:34f70988-27b0-4c68-b1ab-7f4c19ac48e2', 'referenced_control_flow_node_instance_id': None, 'kwargs': {'services': None}, 'instance_id': 'f43ba1ad-8ef7-4a4a-9e8a-a9ab22e1f108', 'source': 'REMOTE.WORKSPACE.COMPONENT', 'validate_required_input_not_provided': True, 'limits': None, 'identity': None, 'distribution': None, 'environment_variables': {}, 'environment': None, 'resources': None, 'queue_settings': None, 'swept': False})}, 'job_types': {'command': 1}, 'job_sources': {'REMOTE.WORKSPACE.COMPONENT': 1}, 'source_job_id': None}), 'type': 'pipeline', 'status': 'Preparing', 'log_files': None, 'name': 'teal_actor_t1g8n1rkbc', 'description': 'Pipeline with components defined via yaml.', 'tags': {}, 'properties': {'azureml.DevPlatv2': 'true', 'azureml.DatasetAccessMode': 'Asset', 'azureml.runsource': 'azureml.PipelineRun', 'runSource': 'MFE', 'runType': 'HTTP', 'azureml.parameters': '{\"max_train_epochs\":\"2\"}', 'azureml.continue_on_step_failure': 'True', 'azureml.continue_on_failed_optional_input': 'True', 'azureml.enforceRerun': 'False', 'azureml.defaultComputeName': 'whalesdenoisinggpu2', 'azureml.defaultDataStoreName': 'workspaceblobstore', 'azureml.pipelineComponent': 'pipelinerun'}, 'print_as_yaml': True, 'id': '/subscriptions/03fd01f6-6051-4545-a78e-ceaace399b96/resourceGroups/lianatests/providers/Microsoft.MachineLearningServices/workspaces/humpbackwhales-aml/jobs/teal_actor_t1g8n1rkbc', 'Resource__source_path': None, 'base_path': '/mnt/batch/tasks/shared/LS_root/mounts/clusters/linapalk2/code/Users/linapalk/ML_pipeline', 'creation_context': <azure.ai.ml.entities._system_data.SystemData object at 0x7f3f991da5c0>, 'serialize': <msrest.serialization.Serializer object at 0x7f3f99186110>, 'display_name': 'pipeline_with_components_from_yaml', 'experiment_name': 'whales_denoising', 'compute': None, 'services': {'Tracking': {'endpoint': 'azureml://westeurope.api.azureml.ms/mlflow/v1.0/subscriptions/03fd01f6-6051-4545-a78e-ceaace399b96/resourceGroups/lianatests/providers/Microsoft.MachineLearningServices/workspaces/humpbackwhales-aml?', 'type': 'Tracking'}, 'Studio': {'endpoint': 'https://ml.azure.com/runs/teal_actor_t1g8n1rkbc?wsid=/subscriptions/03fd01f6-6051-4545-a78e-ceaace399b96/resourcegroups/lianatests/workspaces/humpbackwhales-aml&tid=16b3c013-d300-468d-ac64-7eda0820b6d3', 'type': 'Studio'}}, 'settings': {}, 'identity': None, 'default_code': None, 'default_environment': None})"
      ]
     },
     "execution_count": 35,
     "metadata": {},
     "output_type": "execute_result"
    }
   ],
   "source": [
    "# Submit pipeline job to workspace\n",
    "pipeline_job = ml_client.jobs.create_or_update(\n",
    "    pipeline_job, experiment_name=\"whales_denoising\"\n",
    ")\n",
    "pipeline_job"
   ]
  },
  {
   "cell_type": "code",
   "execution_count": 36,
   "metadata": {},
   "outputs": [
    {
     "name": "stdout",
     "output_type": "stream",
     "text": [
      "RunId: teal_actor_t1g8n1rkbc\n",
      "Web View: https://ml.azure.com/runs/teal_actor_t1g8n1rkbc?wsid=/subscriptions/03fd01f6-6051-4545-a78e-ceaace399b96/resourcegroups/lianatests/workspaces/humpbackwhales-aml\n",
      "\n",
      "Streaming logs/azureml/executionlogs.txt\n",
      "========================================\n",
      "\n",
      "[2023-09-16 21:21:01Z] Submitting 1 runs, first five are: 985f7350:900055b4-ad0b-4f99-9750-be15503d98a4\n",
      "[2023-09-16 21:33:25Z] Completing processing run id 900055b4-ad0b-4f99-9750-be15503d98a4.\n",
      "\n",
      "Execution Summary\n",
      "=================\n",
      "RunId: teal_actor_t1g8n1rkbc\n",
      "Web View: https://ml.azure.com/runs/teal_actor_t1g8n1rkbc?wsid=/subscriptions/03fd01f6-6051-4545-a78e-ceaace399b96/resourcegroups/lianatests/workspaces/humpbackwhales-aml\n",
      "\n"
     ]
    }
   ],
   "source": [
    "# Wait until the job completes\n",
    "ml_client.jobs.stream(pipeline_job.name)"
   ]
  },
  {
   "cell_type": "code",
   "execution_count": null,
   "metadata": {},
   "outputs": [],
   "source": []
  },
  {
   "cell_type": "code",
   "execution_count": null,
   "metadata": {},
   "outputs": [],
   "source": []
  },
  {
   "cell_type": "markdown",
   "metadata": {},
   "source": [
    "## 3.3 Register a model"
   ]
  },
  {
   "cell_type": "code",
   "execution_count": null,
   "metadata": {},
   "outputs": [],
   "source": [
    "run_model = Model(\n",
    "    path=\"azureml://jobs/{}/outputs/artifacts/paths/model/\".format(pipeline_job.name),\n",
    "    name=\"orca-clean-model-v1\",\n",
    "    description=\"Model trained with 5 epochs, whales_data_v2 and noise_train/test/val_v2.\",\n",
    "    type=AssetTypes.MLFLOW_MODEL\n",
    ")\n",
    "\n",
    "ml_client.models.create_or_update(run_model)"
   ]
  },
  {
   "cell_type": "markdown",
   "metadata": {},
   "source": [
    "## 3.4 Create a batch endpoint"
   ]
  },
  {
   "cell_type": "code",
   "execution_count": null,
   "metadata": {},
   "outputs": [],
   "source": [
    "from azure.ai.ml.entities import BatchEndpoint, ModelBatchDeployment, PipelineComponentBatchDeployment\n",
    "\n",
    "endpoint_name=\"whales-denoising-batch\"\n",
    "\n",
    "endpoint = BatchEndpoint(\n",
    "    name=endpoint_name,\n",
    "    description=\"Endpoint for pipeline deployments\",\n",
    ")\n",
    "\n",
    "ml_client.batch_endpoints.begin_create_or_update(endpoint).result()\n",
    "\n",
    "endpoint = ml_client.batch_endpoints.get(name=endpoint_name)\n",
    "print(endpoint)"
   ]
  },
  {
   "cell_type": "markdown",
   "metadata": {},
   "source": [
    "## 3.5 Deploy the pipeline job"
   ]
  },
  {
   "cell_type": "code",
   "execution_count": null,
   "metadata": {},
   "outputs": [],
   "source": [
    "deployment = PipelineComponentBatchDeployment(\n",
    "    name=\"whales-denoising-batch-from-job\",\n",
    "    description=\"This deployment is created from a pipeline job.\",\n",
    "    endpoint_name=endpoint.name,\n",
    "    job_definition=pipeline_job,\n",
    "    settings={\n",
    "        \"default_compute\": compute_instance_name,\n",
    "        \"continue_on_step_failure\": False\n",
    "    }\n",
    ")"
   ]
  },
  {
   "cell_type": "code",
   "execution_count": null,
   "metadata": {},
   "outputs": [],
   "source": [
    "ml_client.batch_deployments.begin_create_or_update(deployment).result()"
   ]
  },
  {
   "cell_type": "code",
   "execution_count": null,
   "metadata": {},
   "outputs": [],
   "source": [
    "endpoint = ml_client.batch_endpoints.get(endpoint.name)\n",
    "endpoint.defaults.deployment_name = deployment.name\n",
    "ml_client.batch_endpoints.begin_create_or_update(endpoint).result()"
   ]
  },
  {
   "cell_type": "markdown",
   "metadata": {},
   "source": [
    "## 3.6 Test the deployment"
   ]
  },
  {
   "cell_type": "code",
   "execution_count": null,
   "metadata": {},
   "outputs": [],
   "source": [
    "job = ml_client.batch_endpoints.invoke(\n",
    "    endpoint_name=endpoint.name, \n",
    ")"
   ]
  },
  {
   "cell_type": "code",
   "execution_count": null,
   "metadata": {},
   "outputs": [],
   "source": [
    "ml_client.jobs.get(name=job.name)"
   ]
  },
  {
   "cell_type": "code",
   "execution_count": null,
   "metadata": {},
   "outputs": [],
   "source": []
  }
 ],
 "metadata": {
  "description": {
   "description": "Create pipeline with CommandComponents from local YAML file"
  },
  "interpreter": {
   "hash": "3e9e0e270b75c5e6da2e22113ba4f77b864d68f95da6601809c29e46c73ae6bb"
  },
  "kernelspec": {
   "display_name": "Python 3.10 - SDK v2",
   "language": "python",
   "name": "python310-sdkv2"
  },
  "language_info": {
   "codemirror_mode": {
    "name": "ipython",
    "version": 3
   },
   "file_extension": ".py",
   "mimetype": "text/x-python",
   "name": "python",
   "nbconvert_exporter": "python",
   "pygments_lexer": "ipython3",
   "version": "3.10.11"
  }
 },
 "nbformat": 4,
 "nbformat_minor": 2
}
